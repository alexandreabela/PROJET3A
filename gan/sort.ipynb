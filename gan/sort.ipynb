{
 "cells": [
  {
   "cell_type": "code",
   "execution_count": 13,
   "metadata": {},
   "outputs": [],
   "source": [
    "from PIL import Image\n",
    "import os\n",
    "import numpy as np"
   ]
  },
  {
   "cell_type": "code",
   "execution_count": 41,
   "metadata": {},
   "outputs": [],
   "source": [
    "def open_images_in_directory(directory):\n",
    "    images = []\n",
    "    if not os.path.isdir(directory):\n",
    "        print(\"Directory not found.\")\n",
    "        return\n",
    "\n",
    "    files = os.listdir(directory)\n",
    "    for file in files:\n",
    "        image_path = directory + file\n",
    "        images.append([np.array(Image.open(image_path)), image_path])\n",
    "    return images\n",
    "\n",
    "def check_img_dist(image, fight_img, fight_img_2):\n",
    "    array_img = np.array(image)\n",
    "    distance = np.linalg.norm(array_img - fight_img)\n",
    "    distance2 = np.linalg.norm(array_img - fight_img_2)\n",
    "    return distance, distance2\n"
   ]
  },
  {
   "cell_type": "code",
   "execution_count": 42,
   "metadata": {},
   "outputs": [],
   "source": [
    "if not os.path.exists(\"save\") :\n",
    "    os.makedirs(\"save\")\n",
    "directory_path = \"screenshots1/\"\n",
    "fight_img = np.array(Image.open(\"old/save/img_1531.png\"))\n",
    "fight_img_2 = np.array(Image.open(\"old/save/img_1676.png\"))\n",
    "images = open_images_in_directory(directory_path)\n",
    "for i, image in enumerate(images) :\n",
    "    distance, distance2 = check_img_dist(image[0], fight_img, fight_img_2)\n",
    "    if distance < 20_000 or distance2 < 20_000:\n",
    "        Image.fromarray(image[0]).save(f'save/img_{i}.png')\n",
    "        os.remove(image[1])"
   ]
  },
  {
   "cell_type": "code",
   "execution_count": 43,
   "metadata": {},
   "outputs": [
    {
     "data": {
      "text/plain": [
       "7960"
      ]
     },
     "execution_count": 43,
     "metadata": {},
     "output_type": "execute_result"
    }
   ],
   "source": [
    "len(os.listdir(\"save/\"))"
   ]
  },
  {
   "cell_type": "code",
   "execution_count": 44,
   "metadata": {},
   "outputs": [
    {
     "name": "stdout",
     "output_type": "stream",
     "text": [
      "All images copied to 'combined_folder'.\n"
     ]
    }
   ],
   "source": [
    "import os\n",
    "import shutil\n",
    "\n",
    "def copy_images_from_folders(source_folders, destination_folder):\n",
    "    if not os.path.exists(destination_folder):\n",
    "        os.makedirs(destination_folder)\n",
    "    \n",
    "    img_counter = 1\n",
    "    for folder in source_folders:\n",
    "        files = os.listdir(folder)\n",
    "        \n",
    "        for file in files:\n",
    "            source_path = os.path.join(folder, file)\n",
    "            destination_path = os.path.join(destination_folder, f\"img_{img_counter}.png\")\n",
    "            shutil.copy2(source_path, destination_path)\n",
    "            img_counter += 1\n",
    "    \n",
    "    print(f\"All images copied to '{destination_folder}'.\")\n",
    "\n",
    "source_folders = [\"screenshots/train/train\", \"screenshots1\"]\n",
    "destination_folder = \"combined_folder\"\n",
    "copy_images_from_folders(source_folders, destination_folder)\n"
   ]
  },
  {
   "cell_type": "code",
   "execution_count": 45,
   "metadata": {},
   "outputs": [
    {
     "data": {
      "text/plain": [
       "40185"
      ]
     },
     "execution_count": 45,
     "metadata": {},
     "output_type": "execute_result"
    }
   ],
   "source": [
    "len(os.listdir('combined_folder'))"
   ]
  }
 ],
 "metadata": {
  "kernelspec": {
   "display_name": "pokemon_env",
   "language": "python",
   "name": "python3"
  },
  "language_info": {
   "codemirror_mode": {
    "name": "ipython",
    "version": 3
   },
   "file_extension": ".py",
   "mimetype": "text/x-python",
   "name": "python",
   "nbconvert_exporter": "python",
   "pygments_lexer": "ipython3",
   "version": "3.11.5"
  }
 },
 "nbformat": 4,
 "nbformat_minor": 2
}
