{
 "cells": [
  {
   "cell_type": "code",
   "execution_count": null,
   "metadata": {},
   "outputs": [],
   "source": [
    "from pok_env_gym_RLLib import PokemonEnv\n",
    "from ray.tune.registry import register_env\n"
   ]
  },
  {
   "cell_type": "code",
   "execution_count": null,
   "metadata": {},
   "outputs": [],
   "source": [
    "def env_creator(arg):\n",
    "    print(arg)\n",
    "    return PokemonEnv()\n",
    "\n",
    "register_env(\"PokemonEnv\", env_creator)"
   ]
  },
  {
   "cell_type": "code",
   "execution_count": null,
   "metadata": {},
   "outputs": [],
   "source": [
    "from ray.rllib.algorithms.dqn.dqn import DQNConfig, DQN\n",
    "from ray.tune.logger import pretty_print\n",
    "\n",
    "replay_config = {\n",
    "        \"type\": \"MultiAgentPrioritizedReplayBuffer\",\n",
    "        \"capacity\": 60000,\n",
    "        \"prioritized_replay_alpha\": 0.5,\n",
    "        \"prioritized_replay_beta\": 0.5,\n",
    "        \"prioritized_replay_eps\": 3e-6,\n",
    "    }\n",
    "\n",
    "config = (DQNConfig()\n",
    "          .training(replay_buffer_config=replay_config,\n",
    "                         train_batch_size=64,\n",
    "                         n_step=1,\n",
    "                         num_atoms=1,\n",
    "                         double_q=False,\n",
    "                         dueling=False,\n",
    "                         num_steps_sampled_before_learning_starts=100)\n",
    "            .resources(num_gpus=0)\n",
    "            .rollouts(num_rollout_workers=2)\n",
    "            .environment(\"PokemonEnv\"))\n",
    "algo = DQN(config=config)\n",
    "for i in range(100):\n",
    "   print(pretty_print(algo.train())) \n"
   ]
  }
 ],
 "metadata": {
  "kernelspec": {
   "display_name": "base",
   "language": "python",
   "name": "python3"
  },
  "language_info": {
   "codemirror_mode": {
    "name": "ipython",
    "version": 3
   },
   "file_extension": ".py",
   "mimetype": "text/x-python",
   "name": "python",
   "nbconvert_exporter": "python",
   "pygments_lexer": "ipython3",
   "version": "3.11.6"
  }
 },
 "nbformat": 4,
 "nbformat_minor": 2
}
