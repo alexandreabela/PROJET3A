{
 "cells": [
  {
   "cell_type": "code",
   "execution_count": 2,
   "metadata": {},
   "outputs": [],
   "source": [
    "from env.pok_env_gym_RLLib import PokemonEnv\n",
    "from ray.tune.registry import register_env"
   ]
  },
  {
   "cell_type": "code",
   "execution_count": 3,
   "metadata": {},
   "outputs": [],
   "source": [
    "def env_creator(arg):\n",
    "    print(arg)\n",
    "    return PokemonEnv()\n",
    "\n",
    "register_env(\"PokemonEnv\", env_creator)"
   ]
  },
  {
   "cell_type": "code",
   "execution_count": 4,
   "metadata": {},
   "outputs": [
    {
     "name": "stderr",
     "output_type": "stream",
     "text": [
      "2024-03-17 16:17:45,014\tWARNING deprecation.py:50 -- DeprecationWarning: `rllib/algorithms/simple_q/` has been deprecated. Use `rllib_contrib/simple_q/` instead. This will raise an error in the future!\n",
      "/Users/alexandreabela/Desktop/ECM/Cours/3A_ECM/PROJET3A/pokemon_env/lib/python3.11/site-packages/ray/rllib/algorithms/algorithm.py:483: RayDeprecationWarning: This API is deprecated and may be removed in future Ray releases. You could suppress this warning by setting env variable PYTHONWARNINGS=\"ignore::DeprecationWarning\"\n",
      "`UnifiedLogger` will be removed in Ray 2.7.\n",
      "  return UnifiedLogger(config, logdir, loggers=None)\n",
      "/Users/alexandreabela/Desktop/ECM/Cours/3A_ECM/PROJET3A/pokemon_env/lib/python3.11/site-packages/ray/tune/logger/unified.py:53: RayDeprecationWarning: This API is deprecated and may be removed in future Ray releases. You could suppress this warning by setting env variable PYTHONWARNINGS=\"ignore::DeprecationWarning\"\n",
      "The `JsonLogger interface is deprecated in favor of the `ray.tune.json.JsonLoggerCallback` interface and will be removed in Ray 2.7.\n",
      "  self._loggers.append(cls(self.config, self.logdir, self.trial))\n",
      "/Users/alexandreabela/Desktop/ECM/Cours/3A_ECM/PROJET3A/pokemon_env/lib/python3.11/site-packages/ray/tune/logger/unified.py:53: RayDeprecationWarning: This API is deprecated and may be removed in future Ray releases. You could suppress this warning by setting env variable PYTHONWARNINGS=\"ignore::DeprecationWarning\"\n",
      "The `CSVLogger interface is deprecated in favor of the `ray.tune.csv.CSVLoggerCallback` interface and will be removed in Ray 2.7.\n",
      "  self._loggers.append(cls(self.config, self.logdir, self.trial))\n",
      "/Users/alexandreabela/Desktop/ECM/Cours/3A_ECM/PROJET3A/pokemon_env/lib/python3.11/site-packages/ray/tune/logger/unified.py:53: RayDeprecationWarning: This API is deprecated and may be removed in future Ray releases. You could suppress this warning by setting env variable PYTHONWARNINGS=\"ignore::DeprecationWarning\"\n",
      "The `TBXLogger interface is deprecated in favor of the `ray.tune.tensorboardx.TBXLoggerCallback` interface and will be removed in Ray 2.7.\n",
      "  self._loggers.append(cls(self.config, self.logdir, self.trial))\n",
      "/opt/homebrew/Cellar/python@3.11/3.11.6_1/Frameworks/Python.framework/Versions/3.11/lib/python3.11/subprocess.py:1883: RuntimeWarning: os.fork() was called. os.fork() is incompatible with multithreaded code, and JAX is multithreaded, so this will likely lead to a deadlock.\n",
      "  self.pid = _fork_exec(\n",
      "2024-03-17 16:17:47,263\tINFO worker.py:1724 -- Started a local Ray instance.\n"
     ]
    },
    {
     "name": "stdout",
     "output_type": "stream",
     "text": [
      "\u001b[36m(RolloutWorker pid=16729)\u001b[0m {, worker=1/1, vector_idx=0, remote=False}\n"
     ]
    },
    {
     "name": "stderr",
     "output_type": "stream",
     "text": [
      "\u001b[36m(RolloutWorker pid=16729)\u001b[0m 2024-03-17 16:17:50,572\tWARNING env.py:162 -- Your env doesn't have a .spec.max_episode_steps attribute. Your horizon will default to infinity, and your environment will not be reset.\n",
      "2024-03-17 16:17:51,331\tERROR actor_manager.py:506 -- Ray error, taking actor 1 out of service. The actor died because of an error raised in its creation task, \u001b[36mray::RolloutWorker.__init__()\u001b[39m (pid=16729, ip=127.0.0.1, actor_id=2685755d3b66f37392404b7501000000, repr=<ray.rllib.evaluation.rollout_worker.RolloutWorker object at 0x145293fd0>)\n",
      "           ^^^^^^^^^^^^^^^^^^^^^^^^^^^^^^^^^^^^\n",
      "           ^^^^^^^^^^^^^^^^^^^^^^^^^^^^^^^\n",
      "  File \"/Users/alexandreabela/Desktop/ECM/Cours/3A_ECM/PROJET3A/pokemon_env/lib/python3.11/site-packages/ray/rllib/evaluation/rollout_worker.py\", line 535, in __init__\n",
      "    self._update_policy_map(policy_dict=self.policy_dict)\n",
      "           ^^^^^^^^^^^^^^^^^^^^^^^^^^^^^^^\n",
      "  File \"/Users/alexandreabela/Desktop/ECM/Cours/3A_ECM/PROJET3A/pokemon_env/lib/python3.11/site-packages/ray/rllib/evaluation/rollout_worker.py\", line 1746, in _update_policy_map\n",
      "    self._build_policy_map(\n",
      "           ^^^^^^^^^^^^^^^^^^^^^^^^^^^^^^^\n",
      "  File \"/Users/alexandreabela/Desktop/ECM/Cours/3A_ECM/PROJET3A/pokemon_env/lib/python3.11/site-packages/ray/rllib/evaluation/rollout_worker.py\", line 1857, in _build_policy_map\n",
      "    new_policy = create_policy_for_framework(\n",
      "                 ^^^^^^^^^^^^^^^^^^^^^^^^^^^^\n",
      "  File \"/Users/alexandreabela/Desktop/ECM/Cours/3A_ECM/PROJET3A/pokemon_env/lib/python3.11/site-packages/ray/rllib/utils/policy.py\", line 141, in create_policy_for_framework\n",
      "    return policy_class(observation_space, action_space, merged_config)\n",
      "           ^^^^^^^^^^^^^^^^^^^^^^^^^^^^^^^^^^^^^^^^^^^^^^^^^^^^^^^^^^^^\n",
      "  File \"/Users/alexandreabela/Desktop/ECM/Cours/3A_ECM/PROJET3A/pokemon_env/lib/python3.11/site-packages/ray/rllib/policy/policy_template.py\", line 301, in __init__\n",
      "    self.parent_cls.__init__(\n",
      "  File \"/Users/alexandreabela/Desktop/ECM/Cours/3A_ECM/PROJET3A/pokemon_env/lib/python3.11/site-packages/ray/rllib/policy/torch_policy.py\", line 251, in __init__\n",
      "    self.exploration = self._create_exploration()\n",
      "                       ^^^^^^^^^^^^^^^^^^^^^^^^^^\n",
      "  File \"/Users/alexandreabela/Desktop/ECM/Cours/3A_ECM/PROJET3A/pokemon_env/lib/python3.11/site-packages/ray/rllib/policy/policy.py\", line 1328, in _create_exploration\n",
      "    exploration = from_config(\n",
      "                  ^^^^^^^^^^^^\n",
      "  File \"/Users/alexandreabela/Desktop/ECM/Cours/3A_ECM/PROJET3A/pokemon_env/lib/python3.11/site-packages/ray/rllib/utils/from_config.py\", line 186, in from_config\n",
      "    raise ValueError(\n",
      "ValueError: String specifier (GANExploration) must be a valid filename, a [module].[class], a class within 'ray.rllib.utils.exploration.exploration', or a key into Exploration.__type_registry__!\n"
     ]
    },
    {
     "name": "stdout",
     "output_type": "stream",
     "text": [
      "\u001b[36m(RolloutWorker pid=16729)\u001b[0m Pokédex: 0, Badges: 0, Death: 0, Levels: 0, exploration: 0\n"
     ]
    },
    {
     "name": "stderr",
     "output_type": "stream",
     "text": [
      "\u001b[36m(RolloutWorker pid=16729)\u001b[0m Exception raised in creation task: The actor died because of an error raised in its creation task, \u001b[36mray::RolloutWorker.__init__()\u001b[39m (pid=16729, ip=127.0.0.1, actor_id=2685755d3b66f37392404b7501000000, repr=<ray.rllib.evaluation.rollout_worker.RolloutWorker object at 0x145293fd0>)\n",
      "\u001b[36m(RolloutWorker pid=16729)\u001b[0m            ^^^^^^^^^^^^^^^^^^^^^^^^^^^^^^^^^^^^\n",
      "\u001b[36m(RolloutWorker pid=16729)\u001b[0m            ^^^^^^^^^^^^^^^^^^^^^^^^^^^^^^^\n",
      "\u001b[36m(RolloutWorker pid=16729)\u001b[0m   File \"/Users/alexandreabela/Desktop/ECM/Cours/3A_ECM/PROJET3A/pokemon_env/lib/python3.11/site-packages/ray/rllib/evaluation/rollout_worker.py\", line 535, in __init__\n",
      "\u001b[36m(RolloutWorker pid=16729)\u001b[0m     self._update_policy_map(policy_dict=self.policy_dict)\n",
      "\u001b[36m(RolloutWorker pid=16729)\u001b[0m            ^^^^^^^^^^^^^^^^^^^^^^^^^^^^^^^\n",
      "\u001b[36m(RolloutWorker pid=16729)\u001b[0m   File \"/Users/alexandreabela/Desktop/ECM/Cours/3A_ECM/PROJET3A/pokemon_env/lib/python3.11/site-packages/ray/rllib/evaluation/rollout_worker.py\", line 1746, in _update_policy_map\n",
      "\u001b[36m(RolloutWorker pid=16729)\u001b[0m     self._build_policy_map(\n",
      "\u001b[36m(RolloutWorker pid=16729)\u001b[0m            ^^^^^^^^^^^^^^^^^^^^^^^^^^^^^^^\n",
      "\u001b[36m(RolloutWorker pid=16729)\u001b[0m   File \"/Users/alexandreabela/Desktop/ECM/Cours/3A_ECM/PROJET3A/pokemon_env/lib/python3.11/site-packages/ray/rllib/evaluation/rollout_worker.py\", line 1857, in _build_policy_map\n",
      "\u001b[36m(RolloutWorker pid=16729)\u001b[0m     new_policy = create_policy_for_framework(\n",
      "\u001b[36m(RolloutWorker pid=16729)\u001b[0m                  ^^^^^^^^^^^^^^^^^^^^^^^^^^^^\n",
      "\u001b[36m(RolloutWorker pid=16729)\u001b[0m   File \"/Users/alexandreabela/Desktop/ECM/Cours/3A_ECM/PROJET3A/pokemon_env/lib/python3.11/site-packages/ray/rllib/utils/policy.py\", line 141, in create_policy_for_framework\n",
      "\u001b[36m(RolloutWorker pid=16729)\u001b[0m     return policy_class(observation_space, action_space, merged_config)\n",
      "\u001b[36m(RolloutWorker pid=16729)\u001b[0m            ^^^^^^^^^^^^^^^^^^^^^^^^^^^^^^^^^^^^^^^^^^^^^^^^^^^^^^^^^^^^\n",
      "\u001b[36m(RolloutWorker pid=16729)\u001b[0m   File \"/Users/alexandreabela/Desktop/ECM/Cours/3A_ECM/PROJET3A/pokemon_env/lib/python3.11/site-packages/ray/rllib/policy/policy_template.py\", line 301, in __init__\n",
      "\u001b[36m(RolloutWorker pid=16729)\u001b[0m     self.parent_cls.__init__(\n",
      "\u001b[36m(RolloutWorker pid=16729)\u001b[0m   File \"/Users/alexandreabela/Desktop/ECM/Cours/3A_ECM/PROJET3A/pokemon_env/lib/python3.11/site-packages/ray/rllib/policy/torch_policy.py\", line 251, in __init__\n",
      "\u001b[36m(RolloutWorker pid=16729)\u001b[0m     self.exploration = self._create_exploration()\n",
      "\u001b[36m(RolloutWorker pid=16729)\u001b[0m                        ^^^^^^^^^^^^^^^^^^^^^^^^^^\n",
      "\u001b[36m(RolloutWorker pid=16729)\u001b[0m   File \"/Users/alexandreabela/Desktop/ECM/Cours/3A_ECM/PROJET3A/pokemon_env/lib/python3.11/site-packages/ray/rllib/policy/policy.py\", line 1328, in _create_exploration\n",
      "\u001b[36m(RolloutWorker pid=16729)\u001b[0m     exploration = from_config(\n",
      "\u001b[36m(RolloutWorker pid=16729)\u001b[0m                   ^^^^^^^^^^^^\n",
      "\u001b[36m(RolloutWorker pid=16729)\u001b[0m   File \"/Users/alexandreabela/Desktop/ECM/Cours/3A_ECM/PROJET3A/pokemon_env/lib/python3.11/site-packages/ray/rllib/utils/from_config.py\", line 186, in from_config\n",
      "\u001b[36m(RolloutWorker pid=16729)\u001b[0m     raise ValueError(\n",
      "\u001b[36m(RolloutWorker pid=16729)\u001b[0m ValueError: String specifier (GANExploration) must be a valid filename, a [module].[class], a class within 'ray.rllib.utils.exploration.exploration', or a key into Exploration.__type_registry__!\n"
     ]
    },
    {
     "ename": "ValueError",
     "evalue": "String specifier (GANExploration) must be a valid filename, a [module].[class], a class within 'ray.rllib.utils.exploration.exploration', or a key into Exploration.__type_registry__!",
     "output_type": "error",
     "traceback": [
      "\u001b[0;31m---------------------------------------------------------------------------\u001b[0m",
      "\u001b[0;31mRayActorError\u001b[0m                             Traceback (most recent call last)",
      "File \u001b[0;32m~/Desktop/ECM/Cours/3A_ECM/PROJET3A/pokemon_env/lib/python3.11/site-packages/ray/rllib/evaluation/worker_set.py:159\u001b[0m, in \u001b[0;36mWorkerSet.__init__\u001b[0;34m(self, env_creator, validate_env, default_policy_class, config, num_workers, local_worker, logdir, _setup)\u001b[0m\n\u001b[1;32m    158\u001b[0m \u001b[38;5;28;01mtry\u001b[39;00m:\n\u001b[0;32m--> 159\u001b[0m     \u001b[38;5;28;43mself\u001b[39;49m\u001b[38;5;241;43m.\u001b[39;49m\u001b[43m_setup\u001b[49m\u001b[43m(\u001b[49m\n\u001b[1;32m    160\u001b[0m \u001b[43m        \u001b[49m\u001b[43mvalidate_env\u001b[49m\u001b[38;5;241;43m=\u001b[39;49m\u001b[43mvalidate_env\u001b[49m\u001b[43m,\u001b[49m\n\u001b[1;32m    161\u001b[0m \u001b[43m        \u001b[49m\u001b[43mconfig\u001b[49m\u001b[38;5;241;43m=\u001b[39;49m\u001b[43mconfig\u001b[49m\u001b[43m,\u001b[49m\n\u001b[1;32m    162\u001b[0m \u001b[43m        \u001b[49m\u001b[43mnum_workers\u001b[49m\u001b[38;5;241;43m=\u001b[39;49m\u001b[43mnum_workers\u001b[49m\u001b[43m,\u001b[49m\n\u001b[1;32m    163\u001b[0m \u001b[43m        \u001b[49m\u001b[43mlocal_worker\u001b[49m\u001b[38;5;241;43m=\u001b[39;49m\u001b[43mlocal_worker\u001b[49m\u001b[43m,\u001b[49m\n\u001b[1;32m    164\u001b[0m \u001b[43m    \u001b[49m\u001b[43m)\u001b[49m\n\u001b[1;32m    165\u001b[0m \u001b[38;5;66;03m# WorkerSet creation possibly fails, if some (remote) workers cannot\u001b[39;00m\n\u001b[1;32m    166\u001b[0m \u001b[38;5;66;03m# be initialized properly (due to some errors in the EnvRunners's\u001b[39;00m\n\u001b[1;32m    167\u001b[0m \u001b[38;5;66;03m# constructor).\u001b[39;00m\n",
      "File \u001b[0;32m~/Desktop/ECM/Cours/3A_ECM/PROJET3A/pokemon_env/lib/python3.11/site-packages/ray/rllib/evaluation/worker_set.py:229\u001b[0m, in \u001b[0;36mWorkerSet._setup\u001b[0;34m(self, validate_env, config, num_workers, local_worker)\u001b[0m\n\u001b[1;32m    228\u001b[0m \u001b[38;5;66;03m# Create a number of @ray.remote workers.\u001b[39;00m\n\u001b[0;32m--> 229\u001b[0m \u001b[38;5;28;43mself\u001b[39;49m\u001b[38;5;241;43m.\u001b[39;49m\u001b[43madd_workers\u001b[49m\u001b[43m(\u001b[49m\n\u001b[1;32m    230\u001b[0m \u001b[43m    \u001b[49m\u001b[43mnum_workers\u001b[49m\u001b[43m,\u001b[49m\n\u001b[1;32m    231\u001b[0m \u001b[43m    \u001b[49m\u001b[43mvalidate\u001b[49m\u001b[38;5;241;43m=\u001b[39;49m\u001b[43mconfig\u001b[49m\u001b[38;5;241;43m.\u001b[39;49m\u001b[43mvalidate_workers_after_construction\u001b[49m\u001b[43m,\u001b[49m\n\u001b[1;32m    232\u001b[0m \u001b[43m\u001b[49m\u001b[43m)\u001b[49m\n\u001b[1;32m    234\u001b[0m \u001b[38;5;66;03m# If num_workers > 0 and we don't have an env on the local worker,\u001b[39;00m\n\u001b[1;32m    235\u001b[0m \u001b[38;5;66;03m# get the observation- and action spaces for each policy from\u001b[39;00m\n\u001b[1;32m    236\u001b[0m \u001b[38;5;66;03m# the first remote worker (which does have an env).\u001b[39;00m\n",
      "File \u001b[0;32m~/Desktop/ECM/Cours/3A_ECM/PROJET3A/pokemon_env/lib/python3.11/site-packages/ray/rllib/evaluation/worker_set.py:616\u001b[0m, in \u001b[0;36mWorkerSet.add_workers\u001b[0;34m(self, num_workers, validate)\u001b[0m\n\u001b[1;32m    615\u001b[0m \u001b[38;5;28;01mif\u001b[39;00m \u001b[38;5;129;01mnot\u001b[39;00m result\u001b[38;5;241m.\u001b[39mok:\n\u001b[0;32m--> 616\u001b[0m     \u001b[38;5;28;01mraise\u001b[39;00m result\u001b[38;5;241m.\u001b[39mget()\n",
      "File \u001b[0;32m~/Desktop/ECM/Cours/3A_ECM/PROJET3A/pokemon_env/lib/python3.11/site-packages/ray/rllib/utils/actor_manager.py:487\u001b[0m, in \u001b[0;36mFaultTolerantActorManager.__fetch_result\u001b[0;34m(self, remote_actor_ids, remote_calls, tags, timeout_seconds, return_obj_refs, mark_healthy)\u001b[0m\n\u001b[1;32m    486\u001b[0m \u001b[38;5;28;01mtry\u001b[39;00m:\n\u001b[0;32m--> 487\u001b[0m     result \u001b[38;5;241m=\u001b[39m \u001b[43mray\u001b[49m\u001b[38;5;241;43m.\u001b[39;49m\u001b[43mget\u001b[49m\u001b[43m(\u001b[49m\u001b[43mr\u001b[49m\u001b[43m)\u001b[49m\n\u001b[1;32m    488\u001b[0m     remote_results\u001b[38;5;241m.\u001b[39madd_result(actor_id, ResultOrError(result\u001b[38;5;241m=\u001b[39mresult), tag)\n",
      "File \u001b[0;32m~/Desktop/ECM/Cours/3A_ECM/PROJET3A/pokemon_env/lib/python3.11/site-packages/ray/_private/auto_init_hook.py:22\u001b[0m, in \u001b[0;36mwrap_auto_init.<locals>.auto_init_wrapper\u001b[0;34m(*args, **kwargs)\u001b[0m\n\u001b[1;32m     21\u001b[0m auto_init_ray()\n\u001b[0;32m---> 22\u001b[0m \u001b[38;5;28;01mreturn\u001b[39;00m \u001b[43mfn\u001b[49m\u001b[43m(\u001b[49m\u001b[38;5;241;43m*\u001b[39;49m\u001b[43margs\u001b[49m\u001b[43m,\u001b[49m\u001b[43m \u001b[49m\u001b[38;5;241;43m*\u001b[39;49m\u001b[38;5;241;43m*\u001b[39;49m\u001b[43mkwargs\u001b[49m\u001b[43m)\u001b[49m\n",
      "File \u001b[0;32m~/Desktop/ECM/Cours/3A_ECM/PROJET3A/pokemon_env/lib/python3.11/site-packages/ray/_private/client_mode_hook.py:103\u001b[0m, in \u001b[0;36mclient_mode_hook.<locals>.wrapper\u001b[0;34m(*args, **kwargs)\u001b[0m\n\u001b[1;32m    102\u001b[0m         \u001b[38;5;28;01mreturn\u001b[39;00m \u001b[38;5;28mgetattr\u001b[39m(ray, func\u001b[38;5;241m.\u001b[39m\u001b[38;5;18m__name__\u001b[39m)(\u001b[38;5;241m*\u001b[39margs, \u001b[38;5;241m*\u001b[39m\u001b[38;5;241m*\u001b[39mkwargs)\n\u001b[0;32m--> 103\u001b[0m \u001b[38;5;28;01mreturn\u001b[39;00m \u001b[43mfunc\u001b[49m\u001b[43m(\u001b[49m\u001b[38;5;241;43m*\u001b[39;49m\u001b[43margs\u001b[49m\u001b[43m,\u001b[49m\u001b[43m \u001b[49m\u001b[38;5;241;43m*\u001b[39;49m\u001b[38;5;241;43m*\u001b[39;49m\u001b[43mkwargs\u001b[49m\u001b[43m)\u001b[49m\n",
      "File \u001b[0;32m~/Desktop/ECM/Cours/3A_ECM/PROJET3A/pokemon_env/lib/python3.11/site-packages/ray/_private/worker.py:2626\u001b[0m, in \u001b[0;36mget\u001b[0;34m(object_refs, timeout)\u001b[0m\n\u001b[1;32m   2625\u001b[0m         \u001b[38;5;28;01melse\u001b[39;00m:\n\u001b[0;32m-> 2626\u001b[0m             \u001b[38;5;28;01mraise\u001b[39;00m value\n\u001b[1;32m   2628\u001b[0m \u001b[38;5;28;01mif\u001b[39;00m is_individual_id:\n",
      "\u001b[0;31mRayActorError\u001b[0m: The actor died because of an error raised in its creation task, \u001b[36mray::RolloutWorker.__init__()\u001b[39m (pid=16729, ip=127.0.0.1, actor_id=2685755d3b66f37392404b7501000000, repr=<ray.rllib.evaluation.rollout_worker.RolloutWorker object at 0x145293fd0>)\n           ^^^^^^^^^^^^^^^^^^^^^^^^^^^^^^^^^^^^\n           ^^^^^^^^^^^^^^^^^^^^^^^^^^^^^^^\n  File \"/Users/alexandreabela/Desktop/ECM/Cours/3A_ECM/PROJET3A/pokemon_env/lib/python3.11/site-packages/ray/rllib/evaluation/rollout_worker.py\", line 535, in __init__\n    self._update_policy_map(policy_dict=self.policy_dict)\n           ^^^^^^^^^^^^^^^^^^^^^^^^^^^^^^^\n  File \"/Users/alexandreabela/Desktop/ECM/Cours/3A_ECM/PROJET3A/pokemon_env/lib/python3.11/site-packages/ray/rllib/evaluation/rollout_worker.py\", line 1746, in _update_policy_map\n    self._build_policy_map(\n           ^^^^^^^^^^^^^^^^^^^^^^^^^^^^^^^\n  File \"/Users/alexandreabela/Desktop/ECM/Cours/3A_ECM/PROJET3A/pokemon_env/lib/python3.11/site-packages/ray/rllib/evaluation/rollout_worker.py\", line 1857, in _build_policy_map\n    new_policy = create_policy_for_framework(\n                 ^^^^^^^^^^^^^^^^^^^^^^^^^^^^\n  File \"/Users/alexandreabela/Desktop/ECM/Cours/3A_ECM/PROJET3A/pokemon_env/lib/python3.11/site-packages/ray/rllib/utils/policy.py\", line 141, in create_policy_for_framework\n    return policy_class(observation_space, action_space, merged_config)\n           ^^^^^^^^^^^^^^^^^^^^^^^^^^^^^^^^^^^^^^^^^^^^^^^^^^^^^^^^^^^^\n  File \"/Users/alexandreabela/Desktop/ECM/Cours/3A_ECM/PROJET3A/pokemon_env/lib/python3.11/site-packages/ray/rllib/policy/policy_template.py\", line 301, in __init__\n    self.parent_cls.__init__(\n  File \"/Users/alexandreabela/Desktop/ECM/Cours/3A_ECM/PROJET3A/pokemon_env/lib/python3.11/site-packages/ray/rllib/policy/torch_policy.py\", line 251, in __init__\n    self.exploration = self._create_exploration()\n                       ^^^^^^^^^^^^^^^^^^^^^^^^^^\n  File \"/Users/alexandreabela/Desktop/ECM/Cours/3A_ECM/PROJET3A/pokemon_env/lib/python3.11/site-packages/ray/rllib/policy/policy.py\", line 1328, in _create_exploration\n    exploration = from_config(\n                  ^^^^^^^^^^^^\n  File \"/Users/alexandreabela/Desktop/ECM/Cours/3A_ECM/PROJET3A/pokemon_env/lib/python3.11/site-packages/ray/rllib/utils/from_config.py\", line 186, in from_config\n    raise ValueError(\nValueError: String specifier (GANExploration) must be a valid filename, a [module].[class], a class within 'ray.rllib.utils.exploration.exploration', or a key into Exploration.__type_registry__!",
      "\nDuring handling of the above exception, another exception occurred:\n",
      "\u001b[0;31mValueError\u001b[0m                                Traceback (most recent call last)",
      "Cell \u001b[0;32mIn[4], line 31\u001b[0m\n\u001b[1;32m      7\u001b[0m replay_config \u001b[38;5;241m=\u001b[39m {\n\u001b[1;32m      8\u001b[0m         \u001b[38;5;124m\"\u001b[39m\u001b[38;5;124mtype\u001b[39m\u001b[38;5;124m\"\u001b[39m: \u001b[38;5;124m\"\u001b[39m\u001b[38;5;124mMultiAgentPrioritizedReplayBuffer\u001b[39m\u001b[38;5;124m\"\u001b[39m,\n\u001b[1;32m      9\u001b[0m         \u001b[38;5;124m\"\u001b[39m\u001b[38;5;124mcapacity\u001b[39m\u001b[38;5;124m\"\u001b[39m: \u001b[38;5;241m60000\u001b[39m,\n\u001b[0;32m   (...)\u001b[0m\n\u001b[1;32m     12\u001b[0m         \u001b[38;5;124m\"\u001b[39m\u001b[38;5;124mprioritized_replay_eps\u001b[39m\u001b[38;5;124m\"\u001b[39m: \u001b[38;5;241m3e-6\u001b[39m,\n\u001b[1;32m     13\u001b[0m     }\n\u001b[1;32m     15\u001b[0m config \u001b[38;5;241m=\u001b[39m (DQNConfig()\n\u001b[1;32m     16\u001b[0m           \u001b[38;5;241m.\u001b[39mtraining(replay_buffer_config\u001b[38;5;241m=\u001b[39mreplay_config,\n\u001b[1;32m     17\u001b[0m                          train_batch_size\u001b[38;5;241m=\u001b[39m\u001b[38;5;241m64\u001b[39m,\n\u001b[0;32m   (...)\u001b[0m\n\u001b[1;32m     29\u001b[0m                 \u001b[38;5;124m\"\u001b[39m\u001b[38;5;124minput_size\u001b[39m\u001b[38;5;124m\"\u001b[39m: PokemonEnv()\u001b[38;5;241m.\u001b[39mobservation_space\u001b[38;5;241m.\u001b[39mshape,\n\u001b[1;32m     30\u001b[0m             }))\n\u001b[0;32m---> 31\u001b[0m algo \u001b[38;5;241m=\u001b[39m \u001b[43mGAN_DQN\u001b[49m\u001b[43m(\u001b[49m\u001b[43mconfig\u001b[49m\u001b[38;5;241;43m=\u001b[39;49m\u001b[43mconfig\u001b[49m\u001b[43m)\u001b[49m\n\u001b[1;32m     32\u001b[0m \u001b[38;5;28;01mfor\u001b[39;00m i \u001b[38;5;129;01min\u001b[39;00m \u001b[38;5;28mrange\u001b[39m(\u001b[38;5;241m1\u001b[39m):\n\u001b[1;32m     33\u001b[0m    \u001b[38;5;28mprint\u001b[39m(pretty_print(algo\u001b[38;5;241m.\u001b[39mtrain())) \n",
      "File \u001b[0;32m~/Desktop/ECM/Cours/3A_ECM/PROJET3A/pokemon_env/lib/python3.11/site-packages/ray/rllib/utils/deprecation.py:109\u001b[0m, in \u001b[0;36mDeprecated.<locals>._inner.<locals>.patched_init\u001b[0;34m(*args, **kwargs)\u001b[0m\n\u001b[1;32m    102\u001b[0m \u001b[38;5;28;01mif\u001b[39;00m log_once(old \u001b[38;5;129;01mor\u001b[39;00m obj\u001b[38;5;241m.\u001b[39m\u001b[38;5;18m__name__\u001b[39m):\n\u001b[1;32m    103\u001b[0m     deprecation_warning(\n\u001b[1;32m    104\u001b[0m         old\u001b[38;5;241m=\u001b[39mold \u001b[38;5;129;01mor\u001b[39;00m obj\u001b[38;5;241m.\u001b[39m\u001b[38;5;18m__name__\u001b[39m,\n\u001b[1;32m    105\u001b[0m         new\u001b[38;5;241m=\u001b[39mnew,\n\u001b[1;32m    106\u001b[0m         help\u001b[38;5;241m=\u001b[39mhelp,\n\u001b[1;32m    107\u001b[0m         error\u001b[38;5;241m=\u001b[39merror,\n\u001b[1;32m    108\u001b[0m     )\n\u001b[0;32m--> 109\u001b[0m \u001b[38;5;28;01mreturn\u001b[39;00m \u001b[43mobj_init\u001b[49m\u001b[43m(\u001b[49m\u001b[38;5;241;43m*\u001b[39;49m\u001b[43margs\u001b[49m\u001b[43m,\u001b[49m\u001b[43m \u001b[49m\u001b[38;5;241;43m*\u001b[39;49m\u001b[38;5;241;43m*\u001b[39;49m\u001b[43mkwargs\u001b[49m\u001b[43m)\u001b[49m\n",
      "File \u001b[0;32m~/Desktop/ECM/Cours/3A_ECM/PROJET3A/pokemon_env/lib/python3.11/site-packages/ray/rllib/algorithms/algorithm.py:516\u001b[0m, in \u001b[0;36mAlgorithm.__init__\u001b[0;34m(self, config, env, logger_creator, **kwargs)\u001b[0m\n\u001b[1;32m    498\u001b[0m \u001b[38;5;66;03m# Initialize common evaluation_metrics to nan, before they become\u001b[39;00m\n\u001b[1;32m    499\u001b[0m \u001b[38;5;66;03m# available. We want to make sure the metrics are always present\u001b[39;00m\n\u001b[1;32m    500\u001b[0m \u001b[38;5;66;03m# (although their values may be nan), so that Tune does not complain\u001b[39;00m\n\u001b[1;32m    501\u001b[0m \u001b[38;5;66;03m# when we use these as stopping criteria.\u001b[39;00m\n\u001b[1;32m    502\u001b[0m \u001b[38;5;28mself\u001b[39m\u001b[38;5;241m.\u001b[39mevaluation_metrics \u001b[38;5;241m=\u001b[39m {\n\u001b[1;32m    503\u001b[0m     \u001b[38;5;66;03m# TODO: Don't dump sampler results into top-level.\u001b[39;00m\n\u001b[1;32m    504\u001b[0m     \u001b[38;5;124m\"\u001b[39m\u001b[38;5;124mevaluation\u001b[39m\u001b[38;5;124m\"\u001b[39m: {\n\u001b[0;32m   (...)\u001b[0m\n\u001b[1;32m    513\u001b[0m     },\n\u001b[1;32m    514\u001b[0m }\n\u001b[0;32m--> 516\u001b[0m \u001b[38;5;28;43msuper\u001b[39;49m\u001b[43m(\u001b[49m\u001b[43m)\u001b[49m\u001b[38;5;241;43m.\u001b[39;49m\u001b[38;5;21;43m__init__\u001b[39;49m\u001b[43m(\u001b[49m\n\u001b[1;32m    517\u001b[0m \u001b[43m    \u001b[49m\u001b[43mconfig\u001b[49m\u001b[38;5;241;43m=\u001b[39;49m\u001b[43mconfig\u001b[49m\u001b[43m,\u001b[49m\n\u001b[1;32m    518\u001b[0m \u001b[43m    \u001b[49m\u001b[43mlogger_creator\u001b[49m\u001b[38;5;241;43m=\u001b[39;49m\u001b[43mlogger_creator\u001b[49m\u001b[43m,\u001b[49m\n\u001b[1;32m    519\u001b[0m \u001b[43m    \u001b[49m\u001b[38;5;241;43m*\u001b[39;49m\u001b[38;5;241;43m*\u001b[39;49m\u001b[43mkwargs\u001b[49m\u001b[43m,\u001b[49m\n\u001b[1;32m    520\u001b[0m \u001b[43m\u001b[49m\u001b[43m)\u001b[49m\n\u001b[1;32m    522\u001b[0m \u001b[38;5;66;03m# Check, whether `training_iteration` is still a tune.Trainable property\u001b[39;00m\n\u001b[1;32m    523\u001b[0m \u001b[38;5;66;03m# and has not been overridden by the user in the attempt to implement the\u001b[39;00m\n\u001b[1;32m    524\u001b[0m \u001b[38;5;66;03m# algos logic (this should be done now inside `training_step`).\u001b[39;00m\n\u001b[1;32m    525\u001b[0m \u001b[38;5;28;01mtry\u001b[39;00m:\n",
      "File \u001b[0;32m~/Desktop/ECM/Cours/3A_ECM/PROJET3A/pokemon_env/lib/python3.11/site-packages/ray/tune/trainable/trainable.py:161\u001b[0m, in \u001b[0;36mTrainable.__init__\u001b[0;34m(self, config, logger_creator, storage)\u001b[0m\n\u001b[1;32m    157\u001b[0m     logger\u001b[38;5;241m.\u001b[39mdebug(\u001b[38;5;124mf\u001b[39m\u001b[38;5;124m\"\u001b[39m\u001b[38;5;124mStorageContext on the TRAINABLE:\u001b[39m\u001b[38;5;130;01m\\n\u001b[39;00m\u001b[38;5;132;01m{\u001b[39;00mstorage\u001b[38;5;132;01m}\u001b[39;00m\u001b[38;5;124m\"\u001b[39m)\n\u001b[1;32m    159\u001b[0m \u001b[38;5;28mself\u001b[39m\u001b[38;5;241m.\u001b[39m_open_logfiles(stdout_file, stderr_file)\n\u001b[0;32m--> 161\u001b[0m \u001b[38;5;28;43mself\u001b[39;49m\u001b[38;5;241;43m.\u001b[39;49m\u001b[43msetup\u001b[49m\u001b[43m(\u001b[49m\u001b[43mcopy\u001b[49m\u001b[38;5;241;43m.\u001b[39;49m\u001b[43mdeepcopy\u001b[49m\u001b[43m(\u001b[49m\u001b[38;5;28;43mself\u001b[39;49m\u001b[38;5;241;43m.\u001b[39;49m\u001b[43mconfig\u001b[49m\u001b[43m)\u001b[49m\u001b[43m)\u001b[49m\n\u001b[1;32m    162\u001b[0m setup_time \u001b[38;5;241m=\u001b[39m time\u001b[38;5;241m.\u001b[39mtime() \u001b[38;5;241m-\u001b[39m \u001b[38;5;28mself\u001b[39m\u001b[38;5;241m.\u001b[39m_start_time\n\u001b[1;32m    163\u001b[0m \u001b[38;5;28;01mif\u001b[39;00m setup_time \u001b[38;5;241m>\u001b[39m SETUP_TIME_THRESHOLD:\n",
      "File \u001b[0;32m~/Desktop/ECM/Cours/3A_ECM/PROJET3A/pokemon_env/lib/python3.11/site-packages/ray/rllib/algorithms/algorithm.py:638\u001b[0m, in \u001b[0;36mAlgorithm.setup\u001b[0;34m(self, config)\u001b[0m\n\u001b[1;32m    635\u001b[0m \u001b[38;5;66;03m# Only if user did not override `_init()`:\u001b[39;00m\n\u001b[1;32m    636\u001b[0m \u001b[38;5;28;01mif\u001b[39;00m _init \u001b[38;5;129;01mis\u001b[39;00m \u001b[38;5;28;01mFalse\u001b[39;00m:\n\u001b[1;32m    637\u001b[0m     \u001b[38;5;66;03m# Create a set of env runner actors via a WorkerSet.\u001b[39;00m\n\u001b[0;32m--> 638\u001b[0m     \u001b[38;5;28mself\u001b[39m\u001b[38;5;241m.\u001b[39mworkers \u001b[38;5;241m=\u001b[39m \u001b[43mWorkerSet\u001b[49m\u001b[43m(\u001b[49m\n\u001b[1;32m    639\u001b[0m \u001b[43m        \u001b[49m\u001b[43menv_creator\u001b[49m\u001b[38;5;241;43m=\u001b[39;49m\u001b[38;5;28;43mself\u001b[39;49m\u001b[38;5;241;43m.\u001b[39;49m\u001b[43menv_creator\u001b[49m\u001b[43m,\u001b[49m\n\u001b[1;32m    640\u001b[0m \u001b[43m        \u001b[49m\u001b[43mvalidate_env\u001b[49m\u001b[38;5;241;43m=\u001b[39;49m\u001b[38;5;28;43mself\u001b[39;49m\u001b[38;5;241;43m.\u001b[39;49m\u001b[43mvalidate_env\u001b[49m\u001b[43m,\u001b[49m\n\u001b[1;32m    641\u001b[0m \u001b[43m        \u001b[49m\u001b[43mdefault_policy_class\u001b[49m\u001b[38;5;241;43m=\u001b[39;49m\u001b[38;5;28;43mself\u001b[39;49m\u001b[38;5;241;43m.\u001b[39;49m\u001b[43mget_default_policy_class\u001b[49m\u001b[43m(\u001b[49m\u001b[38;5;28;43mself\u001b[39;49m\u001b[38;5;241;43m.\u001b[39;49m\u001b[43mconfig\u001b[49m\u001b[43m)\u001b[49m\u001b[43m,\u001b[49m\n\u001b[1;32m    642\u001b[0m \u001b[43m        \u001b[49m\u001b[43mconfig\u001b[49m\u001b[38;5;241;43m=\u001b[39;49m\u001b[38;5;28;43mself\u001b[39;49m\u001b[38;5;241;43m.\u001b[39;49m\u001b[43mconfig\u001b[49m\u001b[43m,\u001b[49m\n\u001b[1;32m    643\u001b[0m \u001b[43m        \u001b[49m\u001b[43mnum_workers\u001b[49m\u001b[38;5;241;43m=\u001b[39;49m\u001b[38;5;28;43mself\u001b[39;49m\u001b[38;5;241;43m.\u001b[39;49m\u001b[43mconfig\u001b[49m\u001b[38;5;241;43m.\u001b[39;49m\u001b[43mnum_rollout_workers\u001b[49m\u001b[43m,\u001b[49m\n\u001b[1;32m    644\u001b[0m \u001b[43m        \u001b[49m\u001b[43mlocal_worker\u001b[49m\u001b[38;5;241;43m=\u001b[39;49m\u001b[38;5;28;43;01mTrue\u001b[39;49;00m\u001b[43m,\u001b[49m\n\u001b[1;32m    645\u001b[0m \u001b[43m        \u001b[49m\u001b[43mlogdir\u001b[49m\u001b[38;5;241;43m=\u001b[39;49m\u001b[38;5;28;43mself\u001b[39;49m\u001b[38;5;241;43m.\u001b[39;49m\u001b[43mlogdir\u001b[49m\u001b[43m,\u001b[49m\n\u001b[1;32m    646\u001b[0m \u001b[43m    \u001b[49m\u001b[43m)\u001b[49m\n\u001b[1;32m    648\u001b[0m     \u001b[38;5;66;03m# TODO (avnishn): Remove the execution plan API by q1 2023\u001b[39;00m\n\u001b[1;32m    649\u001b[0m     \u001b[38;5;66;03m# Function defining one single training iteration's behavior.\u001b[39;00m\n\u001b[1;32m    650\u001b[0m     \u001b[38;5;28;01mif\u001b[39;00m \u001b[38;5;28mself\u001b[39m\u001b[38;5;241m.\u001b[39mconfig\u001b[38;5;241m.\u001b[39m_disable_execution_plan_api:\n\u001b[1;32m    651\u001b[0m         \u001b[38;5;66;03m# Ensure remote workers are initially in sync with the local worker.\u001b[39;00m\n",
      "File \u001b[0;32m~/Desktop/ECM/Cours/3A_ECM/PROJET3A/pokemon_env/lib/python3.11/site-packages/ray/rllib/evaluation/worker_set.py:181\u001b[0m, in \u001b[0;36mWorkerSet.__init__\u001b[0;34m(self, env_creator, validate_env, default_policy_class, config, num_workers, local_worker, logdir, _setup)\u001b[0m\n\u001b[1;32m    168\u001b[0m \u001b[38;5;28;01mexcept\u001b[39;00m RayActorError \u001b[38;5;28;01mas\u001b[39;00m e:\n\u001b[1;32m    169\u001b[0m     \u001b[38;5;66;03m# In case of an actor (remote worker) init failure, the remote worker\u001b[39;00m\n\u001b[1;32m    170\u001b[0m     \u001b[38;5;66;03m# may still exist and will be accessible, however, e.g. calling\u001b[39;00m\n\u001b[1;32m    171\u001b[0m     \u001b[38;5;66;03m# its `sample.remote()` would result in strange \"property not found\"\u001b[39;00m\n\u001b[1;32m    172\u001b[0m     \u001b[38;5;66;03m# errors.\u001b[39;00m\n\u001b[1;32m    173\u001b[0m     \u001b[38;5;28;01mif\u001b[39;00m e\u001b[38;5;241m.\u001b[39mactor_init_failed:\n\u001b[1;32m    174\u001b[0m         \u001b[38;5;66;03m# Raise the original error here that the EnvRunners raised\u001b[39;00m\n\u001b[1;32m    175\u001b[0m         \u001b[38;5;66;03m# during its construction process. This is to enforce transparency\u001b[39;00m\n\u001b[0;32m   (...)\u001b[0m\n\u001b[1;32m    179\u001b[0m         \u001b[38;5;66;03m# - e.args[0].args[2]: The original Exception (e.g. a ValueError due\u001b[39;00m\n\u001b[1;32m    180\u001b[0m         \u001b[38;5;66;03m# to a config mismatch) thrown inside the actor.\u001b[39;00m\n\u001b[0;32m--> 181\u001b[0m         \u001b[38;5;28;01mraise\u001b[39;00m e\u001b[38;5;241m.\u001b[39margs[\u001b[38;5;241m0\u001b[39m]\u001b[38;5;241m.\u001b[39margs[\u001b[38;5;241m2\u001b[39m]\n\u001b[1;32m    182\u001b[0m     \u001b[38;5;66;03m# In any other case, raise the RayActorError as-is.\u001b[39;00m\n\u001b[1;32m    183\u001b[0m     \u001b[38;5;28;01melse\u001b[39;00m:\n\u001b[1;32m    184\u001b[0m         \u001b[38;5;28;01mraise\u001b[39;00m e\n",
      "\u001b[0;31mValueError\u001b[0m: String specifier (GANExploration) must be a valid filename, a [module].[class], a class within 'ray.rllib.utils.exploration.exploration', or a key into Exploration.__type_registry__!"
     ]
    }
   ],
   "source": [
    "from ray.rllib.algorithms.dqn.dqn import DQNConfig\n",
    "from DQNGAN import GAN_DQN\n",
    "from GANExploration import GANExploration\n",
    "from ray.tune.logger import pretty_print\n",
    "import ray\n",
    "\n",
    "replay_config = {\n",
    "        \"type\": \"MultiAgentPrioritizedReplayBuffer\",\n",
    "        \"capacity\": 60000,\n",
    "        \"prioritized_replay_alpha\": 0.5,\n",
    "        \"prioritized_replay_beta\": 0.5,\n",
    "        \"prioritized_replay_eps\": 3e-6,\n",
    "    }\n",
    "\n",
    "config = (DQNConfig()\n",
    "          .training(replay_buffer_config=replay_config,\n",
    "                         train_batch_size=64,\n",
    "                         n_step=1,\n",
    "                         num_atoms=1,\n",
    "                         double_q=False,\n",
    "                         dueling=False,\n",
    "                         num_steps_sampled_before_learning_starts=100)\n",
    "            .resources(num_gpus=0)\n",
    "            .rollouts(num_rollout_workers=1)\n",
    "            .environment(\"PokemonEnv\")\n",
    "            .exploration(exploration_config={\n",
    "                \"type\": \"GANExploration\",\n",
    "                \"file_path_for_gan_weights\":\"\",\n",
    "                \"input_size\": PokemonEnv().observation_space.shape,\n",
    "            }))\n",
    "algo = GAN_DQN(config=config)\n",
    "for i in range(1):\n",
    "   print(pretty_print(algo.train())) \n",
    "ray.shutdown()"
   ]
  },
  {
   "cell_type": "code",
   "execution_count": null,
   "metadata": {},
   "outputs": [
    {
     "data": {
      "text/plain": [
       "'EpsilonGreedy'"
      ]
     },
     "execution_count": 4,
     "metadata": {},
     "output_type": "execute_result"
    }
   ],
   "source": [
    "algo.config['exploration_config']['type']"
   ]
  }
 ],
 "metadata": {
  "kernelspec": {
   "display_name": "base",
   "language": "python",
   "name": "python3"
  },
  "language_info": {
   "codemirror_mode": {
    "name": "ipython",
    "version": 3
   },
   "file_extension": ".py",
   "mimetype": "text/x-python",
   "name": "python",
   "nbconvert_exporter": "python",
   "pygments_lexer": "ipython3",
   "version": "3.11.6"
  }
 },
 "nbformat": 4,
 "nbformat_minor": 2
}
