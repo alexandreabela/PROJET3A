{
 "cells": [
  {
   "cell_type": "code",
   "execution_count": null,
   "metadata": {},
   "outputs": [],
   "source": [
    "import os\n",
    "import pygame\n",
    "import numpy as np\n",
    "import pandas as pd\n",
    "\n",
    "from PIL import Image\n",
    "from env.pok_env_gym_RLLib import PokemonEnv"
   ]
  },
  {
   "cell_type": "markdown",
   "metadata": {},
   "source": [
    "# 1. Jouer à la main et récupérer coordonnées à la main"
   ]
  },
  {
   "cell_type": "code",
   "execution_count": 2,
   "metadata": {},
   "outputs": [],
   "source": [
    "from pygame.locals import QUIT, KEYDOWN, K_UP, K_DOWN, K_LEFT, K_RIGHT, K_a, K_b, K_q \n",
    "\n",
    "# Function to map keyboard inputs to actions\n",
    "def get_action():\n",
    "    for event in pygame.event.get():\n",
    "        if event.type == QUIT:\n",
    "            pygame.quit()\n",
    "            exit()\n",
    "        elif event.type == KEYDOWN:\n",
    "            if event.key == K_UP:\n",
    "                return 0  \n",
    "            elif event.key == K_DOWN:\n",
    "                return 1  \n",
    "            elif event.key == K_LEFT:\n",
    "                return 2  \n",
    "            elif event.key == K_RIGHT:\n",
    "                return 3 \n",
    "            elif event.key == K_a:\n",
    "                return 4  \n",
    "            elif event.key == K_b:\n",
    "                return 5  \n",
    "            elif event.key == K_q: \n",
    "                return 7\n",
    "    return 6  "
   ]
  },
  {
   "cell_type": "code",
   "execution_count": 10,
   "metadata": {},
   "outputs": [
    {
     "data": {
      "application/vnd.jupyter.widget-view+json": {
       "model_id": "c8e10e73058046e48c72b100214bf658",
       "version_major": 2,
       "version_minor": 0
      },
      "text/plain": [
       "  0%|          | 0/100000 [00:00<?, ?it/s]"
      ]
     },
     "metadata": {},
     "output_type": "display_data"
    }
   ],
   "source": [
    "from tqdm.notebook import tqdm\n",
    "import os\n",
    "import pygame\n",
    "from env.pok_env_gym_RLLib import PokemonEnv\n",
    "import numpy as np\n",
    "\n",
    "screenshot_dir = \"screenshots1\"\n",
    "if not os.path.exists(screenshot_dir):\n",
    "    os.makedirs(screenshot_dir)\n",
    "\n",
    "def play_game():\n",
    "    pygame.init()\n",
    "    \n",
    "    env = PokemonEnv()\n",
    "\n",
    "    env.reset()\n",
    "    random = True\n",
    "\n",
    "    for i in tqdm(range(100000)):\n",
    "        \n",
    "        if random: \n",
    "            action = np.random.randint(0,7)\n",
    "            if i%5==0: \n",
    "                screen_image = env.pyboy.screen_image()\n",
    "                screen_image.save(f\"screenshots1/frame_test_{i//5}.png\")\n",
    "        else: \n",
    "            action = get_action()\n",
    "\n",
    "        if action == 7 and not random: \n",
    "            random = True\n",
    "        \n",
    "        env.step(action)\n",
    "\n",
    "        #print(f\"Action: {action}, Reward: {reward}, Total Reward: {total_reward}\")\n",
    "\n",
    "    env.close()\n",
    "\n",
    "    # return env.data_info\n",
    "play_game()"
   ]
  },
  {
   "cell_type": "code",
   "execution_count": 16,
   "metadata": {},
   "outputs": [
    {
     "data": {
      "application/vnd.jupyter.widget-view+json": {
       "model_id": "45fa7ae347fa4de9ab6c6df668b64fdc",
       "version_major": 2,
       "version_minor": 0
      },
      "text/plain": [
       "  0%|          | 0/30000 [00:00<?, ?it/s]"
      ]
     },
     "metadata": {},
     "output_type": "display_data"
    },
    {
     "data": {
      "application/vnd.jupyter.widget-view+json": {
       "model_id": "65b96953e63f4e758d34987e54116f76",
       "version_major": 2,
       "version_minor": 0
      },
      "text/plain": [
       "  0%|          | 0/30000 [00:00<?, ?it/s]"
      ]
     },
     "metadata": {},
     "output_type": "display_data"
    },
    {
     "data": {
      "application/vnd.jupyter.widget-view+json": {
       "model_id": "ceeccad557a540ab9ecb436a9abb6244",
       "version_major": 2,
       "version_minor": 0
      },
      "text/plain": [
       "  0%|          | 0/30000 [00:00<?, ?it/s]"
      ]
     },
     "metadata": {},
     "output_type": "display_data"
    },
    {
     "data": {
      "application/vnd.jupyter.widget-view+json": {
       "model_id": "9681899de15a4498ad8f64d38da2778e",
       "version_major": 2,
       "version_minor": 0
      },
      "text/plain": [
       "  0%|          | 0/30000 [00:00<?, ?it/s]"
      ]
     },
     "metadata": {},
     "output_type": "display_data"
    },
    {
     "data": {
      "application/vnd.jupyter.widget-view+json": {
       "model_id": "e624aea1842148f5973b6f4f71b5f568",
       "version_major": 2,
       "version_minor": 0
      },
      "text/plain": [
       "  0%|          | 0/30000 [00:00<?, ?it/s]"
      ]
     },
     "metadata": {},
     "output_type": "display_data"
    },
    {
     "data": {
      "application/vnd.jupyter.widget-view+json": {
       "model_id": "e322e41f302b497da3814a165a01cb9d",
       "version_major": 2,
       "version_minor": 0
      },
      "text/plain": [
       "  0%|          | 0/30000 [00:00<?, ?it/s]"
      ]
     },
     "metadata": {},
     "output_type": "display_data"
    },
    {
     "data": {
      "application/vnd.jupyter.widget-view+json": {
       "model_id": "6b86116137d2436fa7941d3509c5c5de",
       "version_major": 2,
       "version_minor": 0
      },
      "text/plain": [
       "  0%|          | 0/30000 [00:00<?, ?it/s]"
      ]
     },
     "metadata": {},
     "output_type": "display_data"
    },
    {
     "data": {
      "application/vnd.jupyter.widget-view+json": {
       "model_id": "99bc9847caca440bb95f028fa56a42cf",
       "version_major": 2,
       "version_minor": 0
      },
      "text/plain": [
       "  0%|          | 0/30000 [00:00<?, ?it/s]"
      ]
     },
     "metadata": {},
     "output_type": "display_data"
    },
    {
     "data": {
      "application/vnd.jupyter.widget-view+json": {
       "model_id": "96c8749e407d484a87f2a537eeca056a",
       "version_major": 2,
       "version_minor": 0
      },
      "text/plain": [
       "  0%|          | 0/30000 [00:00<?, ?it/s]"
      ]
     },
     "metadata": {},
     "output_type": "display_data"
    },
    {
     "data": {
      "application/vnd.jupyter.widget-view+json": {
       "model_id": "14687c6946124c50ac65bd6da79b81e4",
       "version_major": 2,
       "version_minor": 0
      },
      "text/plain": [
       "  0%|          | 0/30000 [00:00<?, ?it/s]"
      ]
     },
     "metadata": {},
     "output_type": "display_data"
    }
   ],
   "source": [
    "for i in range(10): \n",
    "    data_info = play_game()\n",
    "    data_info.to_csv(f\"runs/data_random_{i}_30000.csv\")"
   ]
  },
  {
   "cell_type": "markdown",
   "metadata": {},
   "source": [
    "# 2. Plot maps une à côté des autres"
   ]
  },
  {
   "cell_type": "code",
   "execution_count": 3,
   "metadata": {},
   "outputs": [],
   "source": [
    "from IPython.display import clear_output\n",
    "\n",
    "def play_game_with_df():\n",
    "    df_data = pd.DataFrame(columns=[\"m\", \"x\", \"y\"])\n",
    "    print(df_data)\n",
    "\n",
    "    pygame.init()\n",
    "    \n",
    "    env = PokemonEnv()\n",
    "\n",
    "    observation, info = env.reset()\n",
    "\n",
    "    total_reward = 0\n",
    "    done = False\n",
    "\n",
    "    while not done:\n",
    "\n",
    "        action = get_action()\n",
    "\n",
    "        if action == 7: \n",
    "            done = True\n",
    "            continue\n",
    "        \n",
    "\n",
    "        observation, reward, terminated, done, info = env.step(action)\n",
    "        total_reward += reward\n",
    "\n",
    "        m, x, y = info['coordinates']\n",
    "\n",
    "        df_data.loc[len(df_data)+1]= [m, x, y]\n",
    "\n",
    "        print(f\"m: {m}, x: {x}, y:{y}\")\n",
    "        clear_output(wait=True)\n",
    "\n",
    "        #print(f\"Action: {action}, Reward: {reward}, Total Reward: {total_reward}\")\n",
    "\n",
    "    env.close()\n",
    "\n",
    "    return df_data"
   ]
  },
  {
   "cell_type": "code",
   "execution_count": 4,
   "metadata": {},
   "outputs": [
    {
     "name": "stdout",
     "output_type": "stream",
     "text": [
      "Pokédex: 0, Badges: 0, Death: 0, Levels: 0, exploration: 0\n",
      "m: 0, x: 1, y:1\n"
     ]
    }
   ],
   "source": [
    "df_data = play_game_with_df()"
   ]
  },
  {
   "cell_type": "code",
   "execution_count": 5,
   "metadata": {},
   "outputs": [],
   "source": [
    "df_data.to_csv(\"./data_test.csv\")"
   ]
  },
  {
   "cell_type": "markdown",
   "metadata": {},
   "source": [
    "# 3. Afficher coordonnées endroits visités"
   ]
  },
  {
   "cell_type": "code",
   "execution_count": 2,
   "metadata": {},
   "outputs": [],
   "source": [
    "df_data = pd.read_csv(\"./data_coords_test.csv\")"
   ]
  },
  {
   "cell_type": "code",
   "execution_count": 26,
   "metadata": {},
   "outputs": [],
   "source": [
    "import subprocess\n",
    "\n",
    "screenshots_dir = \"gan/screenshots/\"\n",
    "\n",
    "def extract_number(filename:str):\n",
    "    parts = filename.split(\".\")[0].split(\"_\")\n",
    "    for part in parts:\n",
    "        if part.isdigit():\n",
    "            return int(part)\n",
    "    return None\n",
    "\n",
    "list_number_used = []\n",
    "for file in os.listdir(screenshots_dir): \n",
    "    if \"test_\" in file: \n",
    "        command_test = [\"cp\", os.path.join(screenshots_dir, file), os.path.join(screenshots_dir, \"test\", file)]\n",
    "        subprocess.run(command_test)\n",
    "        number = extract_number(file)\n",
    "        list_number_used.append(number)\n",
    "        file_train = f\"frame_train_{number}.png\"\n",
    "        command_train = [\"cp\", os.path.join(screenshots_dir, file_train), os.path.join(screenshots_dir, \"test\", file_train)]\n",
    "        subprocess.run(command_train)\n",
    "    if \"train_\" in file: \n",
    "        number = extract_number(file)\n",
    "        if not number in list_number_used: \n",
    "            command_train = [\"cp\", os.path.join(screenshots_dir, file), os.path.join(screenshots_dir, \"train\", file)]\n",
    "            subprocess.run(command_train)"
   ]
  },
  {
   "cell_type": "code",
   "execution_count": 27,
   "metadata": {},
   "outputs": [],
   "source": [
    "for file in os.listdir(screenshots_dir):\n",
    "    if file.endswith(\".png\"): \n",
    "        command = ['rm', os.path.join(screenshots_dir, file)]\n",
    "        subprocess.run(command)"
   ]
  },
  {
   "cell_type": "code",
   "execution_count": 5,
   "metadata": {},
   "outputs": [],
   "source": [
    "import random\n",
    "import subprocess\n",
    "\n",
    "screenshots_dir_train = os.path.join(screenshots_dir, \"train\")\n",
    "\n",
    "for file in os.listdir(screenshots_dir_train):\n",
    "    if file.endswith('.png'):\n",
    "        if random.random() < 0.15:\n",
    "            command_val = [\"cp\", os.path.join(screenshots_dir_train, file), os.path.join(screenshots_dir_train, \"val\", file)] \n",
    "            subprocess.run(command_val)\n",
    "        else: \n",
    "            command_train = [\"cp\", os.path.join(screenshots_dir_train, file), os.path.join(screenshots_dir_train, \"train\", file)] \n",
    "            subprocess.run(command_train)"
   ]
  },
  {
   "cell_type": "code",
   "execution_count": 6,
   "metadata": {},
   "outputs": [],
   "source": [
    "for file in os.listdir(screenshots_dir_train):\n",
    "    if file.endswith(\".png\"): \n",
    "        command = ['rm', os.path.join(screenshots_dir_train, file)]\n",
    "        subprocess.run(command)"
   ]
  },
  {
   "cell_type": "code",
   "execution_count": 3,
   "metadata": {},
   "outputs": [],
   "source": [
    "def make_all_coords_arrays(df):\n",
    "    return np.array(df[['x', 'y', 'm']].to_numpy().astype(np.uint8))\n",
    "\n",
    "def game_coord_to_pixel_coord(\n",
    "    x, y, map_idx, base_y):\n",
    "    \n",
    "    global_offset = np.array([1056-16*12, 331]) #np.array([790, -29])\n",
    "    map_offsets = {\n",
    "        0: np.array([0,0]), # pallet town\n",
    "        1: np.array([-10, 72]), # viridian\n",
    "        2: np.array([-10, 180]), # pewter\n",
    "        12: np.array([0, 36]), # route 1\n",
    "        13: np.array([0, 144]), # route 2\n",
    "        14: np.array([30, 172]), # Route 3\n",
    "        15: np.array([80, 190]), #Route 4\n",
    "        33: np.array([-50, 64]), # route 22\n",
    "        37: np.array([-9, 2]), # red house first\n",
    "        38: np.array([-9, 25-32]), # red house second\n",
    "        39: np.array([9+12, 2]), # blues house\n",
    "        40: np.array([25-4, -6]), # oaks lab\n",
    "        41: np.array([30, 47]), # Pokémon Center (Viridian City)\n",
    "        42: np.array([30, 55]), # Poké Mart (Viridian City)\n",
    "        43: np.array([30, 72]), # School (Viridian City)\n",
    "        44: np.array([30, 64]), # House 1 (Viridian City)\n",
    "        47: np.array([21,136]), # Gate (Viridian City/Pewter City) (Route 2)\n",
    "        49: np.array([21,108]), # Gate (Route 2)\n",
    "        50: np.array([21,108]), # Gate (Route 2/Viridian Forest) (Route 2)\n",
    "        51: np.array([-35, 137]), # viridian forest\n",
    "        52: np.array([-10, 189]), # Pewter Museum (floor 1)\n",
    "        53: np.array([-10, 198]), # Pewter Museum (floor 2)\n",
    "        54: np.array([-21, 169]), #Pokémon Gym (Pewter City)\n",
    "        55: np.array([-19, 177]), #House with disobedient Nidoran♂ (Pewter City)\n",
    "        56: np.array([-30, 163]), #Poké Mart (Pewter City)\n",
    "        57: np.array([-19, 177]), #House with two Trainers (Pewter City)\n",
    "        58: np.array([-25, 154]), # Pokémon Center (Pewter City)\n",
    "        59: np.array([83, 227]), # Mt. Moon (Route 3 entrance)\n",
    "        60: np.array([123, 227]), # Mt. Moon\n",
    "        61: np.array([152, 227]), # Mt. Moon\n",
    "        68: np.array([65, 190]), # Pokémon Center (Route 4)\n",
    "        193: None # Badges check gate (Route 22)\n",
    "    }\n",
    "    if map_idx in map_offsets.keys():\n",
    "        offset = map_offsets[map_idx]\n",
    "    else:\n",
    "        offset = np.array([0,0])\n",
    "        x, y = 0, 0\n",
    "    coord = global_offset + 16*(offset + np.array([x,y]))\n",
    "    coord[1] = base_y - coord[1]\n",
    "    return coord\n",
    "\n",
    "def blend_overlay(background, over):\n",
    "    al = over[...,3].reshape(over.shape[0], over.shape[1], 1)\n",
    "    ba = (255-al)/255\n",
    "    oa = al/255\n",
    "    return (background[..., :3]*ba + over[..., :3]*oa).astype(np.uint8)"
   ]
  },
  {
   "cell_type": "code",
   "execution_count": 4,
   "metadata": {},
   "outputs": [],
   "source": [
    "base_coords = make_all_coords_arrays(df_data)\n",
    "\n",
    "main_map = np.array(Image.open('pokemap_full_bw.png'))\n",
    "start_bg = main_map.copy()\n",
    "overlay = np.zeros_like(start_bg, dtype=np.uint8)"
   ]
  },
  {
   "cell_type": "code",
   "execution_count": 9,
   "metadata": {},
   "outputs": [],
   "source": [
    "pixel_coords = np.zeros((base_coords.shape[0], 2))\n",
    "\n",
    "for i, row in enumerate(base_coords):\n",
    "    x, y, m = row\n",
    "    x_img, y_img = game_coord_to_pixel_coord(x, y, m, overlay.shape[1])\n",
    "    pixel_coords[i,:] = np.array([x_img, y_img]).astype(int)"
   ]
  },
  {
   "cell_type": "code",
   "execution_count": 10,
   "metadata": {},
   "outputs": [
    {
     "data": {
      "image/png": "[encoded data removed]",
      "text/plain": [
       "<Figure size 640x480 with 1 Axes>"
      ]
     },
     "metadata": {},
     "output_type": "display_data"
    }
   ],
   "source": [
    "import numpy as np\n",
    "import matplotlib.pyplot as plt\n",
    "\n",
    "img_width = 4000\n",
    "img_height = 4000\n",
    "\n",
    "# # Define the grid\n",
    "# x_min, x_max = 0, img_width\n",
    "# y_min, y_max = 0, img_height\n",
    "# bin_size = 10\n",
    "# xx, yy = np.meshgrid(np.arange(x_min, x_max, bin_size),\n",
    "#                      np.arange(y_min, y_max, bin_size))\n",
    "\n",
    "# xedges_flat = np.sort(xx.ravel())\n",
    "# yedges_flat = np.sort(yy.ravel())\n",
    "\n",
    "plt.imshow(main_map, cmap='gray')\n",
    "# heatmap, xedges, yedges = np.histogram2d(pixel_coords[:, 0], pixel_coords[:, 1], bins=(xedges_flat, yedges_flat))\n",
    "# extent = [xedges[0], xedges[-1], yedges[0], yedges[-1]]\n",
    "\n",
    "# Plot the heatmap overlaying the image\n",
    "# plt.imshow(heatmap.T, extent=extent, origin='lower', cmap='hot', alpha=0.5)\n",
    "# plt.colorbar(label='Density')\n",
    "plt.scatter(pixel_coords[:, 0], pixel_coords[:, 1], s=2, color='blue', alpha=0.5)  # Plot the original points\n",
    "plt.xlabel('X')\n",
    "plt.ylabel('Y')\n",
    "plt.title('Heatmap Overlay on Image')\n",
    "plt.show()"
   ]
  },
  {
   "cell_type": "code",
   "execution_count": null,
   "metadata": {},
   "outputs": [],
   "source": [
    "import matplotlib.pyplot as plt\n",
    "\n",
    "plt.figure(figsize = (20,20))\n",
    "plt.imshow(img_full)"
   ]
  },
  {
   "cell_type": "code",
   "execution_count": null,
   "metadata": {},
   "outputs": [],
   "source": [
    "base_coords = make_all_coords_arrays(df_data)\n",
    "base_coords"
   ]
  },
  {
   "cell_type": "code",
   "execution_count": 19,
   "metadata": {},
   "outputs": [],
   "source": [
    "n = base_coords.shape[0]\n",
    "game_coords = np.zeros((n,2))\n",
    "\n",
    "for i in range(n): \n",
    "    x, y, m = base_coords[i,:]\n",
    "    x_pix, y_pix = game_coord_to_pixel_coord(x, y, m, 0)\n",
    "    game_coords[i,:] = [x_pix, y_pix]\n",
    "    "
   ]
  },
  {
   "cell_type": "markdown",
   "metadata": {},
   "source": [
    "# 4. Plot distribution des états visités 3D"
   ]
  },
  {
   "cell_type": "markdown",
   "metadata": {},
   "source": [
    "# 5. Plot distribution des états visités 2D"
   ]
  }
 ],
 "metadata": {
  "kernelspec": {
   "display_name": "pokemon_env",
   "language": "python",
   "name": "python3"
  },
  "language_info": {
   "codemirror_mode": {
    "name": "ipython",
    "version": 3
   },
   "file_extension": ".py",
   "mimetype": "text/x-python",
   "name": "python",
   "nbconvert_exporter": "python",
   "pygments_lexer": "ipython3",
   "version": "3.11.5"
  }
 },
 "nbformat": 4,
 "nbformat_minor": 2
}
