{
 "cells": [
  {
   "cell_type": "code",
   "execution_count": 1,
   "metadata": {},
   "outputs": [
    {
     "name": "stdout",
     "output_type": "stream",
     "text": [
      "pygame 2.5.2 (SDL 2.28.3, Python 3.11.6)\n",
      "Hello from the pygame community. https://www.pygame.org/contribute.html\n"
     ]
    },
    {
     "name": "stderr",
     "output_type": "stream",
     "text": [
      "UserWarning: Using SDL2 binaries from pysdl2-dll 2.30.0\n",
      "objc[56669]: Class METAL_RenderData is implemented in both /Users/alexandreabela/Desktop/ECM/Cours/3A_ECM/PROJET3A/pokemon_env/lib/python3.11/site-packages/pygame/.dylibs/libSDL2-2.0.0.dylib (0x103d55700) and /Users/alexandreabela/Desktop/ECM/Cours/3A_ECM/PROJET3A/pokemon_env/lib/python3.11/site-packages/sdl2dll/dll/SDL2.framework/Versions/A/SDL2 (0x14e8513c8). One of the two will be used. Which one is undefined.\n",
      "objc[56669]: Class METAL_TextureData is implemented in both /Users/alexandreabela/Desktop/ECM/Cours/3A_ECM/PROJET3A/pokemon_env/lib/python3.11/site-packages/pygame/.dylibs/libSDL2-2.0.0.dylib (0x103d55750) and /Users/alexandreabela/Desktop/ECM/Cours/3A_ECM/PROJET3A/pokemon_env/lib/python3.11/site-packages/sdl2dll/dll/SDL2.framework/Versions/A/SDL2 (0x14e851418). One of the two will be used. Which one is undefined.\n",
      "objc[56669]: Class SDLApplication is implemented in both /Users/alexandreabela/Desktop/ECM/Cours/3A_ECM/PROJET3A/pokemon_env/lib/python3.11/site-packages/pygame/.dylibs/libSDL2-2.0.0.dylib (0x103d552c8) and /Users/alexandreabela/Desktop/ECM/Cours/3A_ECM/PROJET3A/pokemon_env/lib/python3.11/site-packages/sdl2dll/dll/SDL2.framework/Versions/A/SDL2 (0x14e851440). One of the two will be used. Which one is undefined.\n",
      "objc[56669]: Class SDLAppDelegate is implemented in both /Users/alexandreabela/Desktop/ECM/Cours/3A_ECM/PROJET3A/pokemon_env/lib/python3.11/site-packages/pygame/.dylibs/libSDL2-2.0.0.dylib (0x103d55318) and /Users/alexandreabela/Desktop/ECM/Cours/3A_ECM/PROJET3A/pokemon_env/lib/python3.11/site-packages/sdl2dll/dll/SDL2.framework/Versions/A/SDL2 (0x14e851490). One of the two will be used. Which one is undefined.\n",
      "objc[56669]: Class SDLOpenGLContext is implemented in both /Users/alexandreabela/Desktop/ECM/Cours/3A_ECM/PROJET3A/pokemon_env/lib/python3.11/site-packages/pygame/.dylibs/libSDL2-2.0.0.dylib (0x103d55458) and /Users/alexandreabela/Desktop/ECM/Cours/3A_ECM/PROJET3A/pokemon_env/lib/python3.11/site-packages/sdl2dll/dll/SDL2.framework/Versions/A/SDL2 (0x14e8514e0). One of the two will be used. Which one is undefined.\n",
      "objc[56669]: Class SDL_cocoametalview is implemented in both /Users/alexandreabela/Desktop/ECM/Cours/3A_ECM/PROJET3A/pokemon_env/lib/python3.11/site-packages/pygame/.dylibs/libSDL2-2.0.0.dylib (0x103d55408) and /Users/alexandreabela/Desktop/ECM/Cours/3A_ECM/PROJET3A/pokemon_env/lib/python3.11/site-packages/sdl2dll/dll/SDL2.framework/Versions/A/SDL2 (0x14e851530). One of the two will be used. Which one is undefined.\n",
      "objc[56669]: Class SDLTranslatorResponder is implemented in both /Users/alexandreabela/Desktop/ECM/Cours/3A_ECM/PROJET3A/pokemon_env/lib/python3.11/site-packages/pygame/.dylibs/libSDL2-2.0.0.dylib (0x103d55390) and /Users/alexandreabela/Desktop/ECM/Cours/3A_ECM/PROJET3A/pokemon_env/lib/python3.11/site-packages/sdl2dll/dll/SDL2.framework/Versions/A/SDL2 (0x14e8515a8). One of the two will be used. Which one is undefined.\n",
      "objc[56669]: Class SDLMessageBoxPresenter is implemented in both /Users/alexandreabela/Desktop/ECM/Cours/3A_ECM/PROJET3A/pokemon_env/lib/python3.11/site-packages/pygame/.dylibs/libSDL2-2.0.0.dylib (0x103d553b8) and /Users/alexandreabela/Desktop/ECM/Cours/3A_ECM/PROJET3A/pokemon_env/lib/python3.11/site-packages/sdl2dll/dll/SDL2.framework/Versions/A/SDL2 (0x14e8515d0). One of the two will be used. Which one is undefined.\n",
      "objc[56669]: Class SDL_ShapeData is implemented in both /Users/alexandreabela/Desktop/ECM/Cours/3A_ECM/PROJET3A/pokemon_env/lib/python3.11/site-packages/pygame/.dylibs/libSDL2-2.0.0.dylib (0x103d554d0) and /Users/alexandreabela/Desktop/ECM/Cours/3A_ECM/PROJET3A/pokemon_env/lib/python3.11/site-packages/sdl2dll/dll/SDL2.framework/Versions/A/SDL2 (0x14e851648). One of the two will be used. Which one is undefined.\n",
      "objc[56669]: Class SDL_CocoaClosure is implemented in both /Users/alexandreabela/Desktop/ECM/Cours/3A_ECM/PROJET3A/pokemon_env/lib/python3.11/site-packages/pygame/.dylibs/libSDL2-2.0.0.dylib (0x103d55520) and /Users/alexandreabela/Desktop/ECM/Cours/3A_ECM/PROJET3A/pokemon_env/lib/python3.11/site-packages/sdl2dll/dll/SDL2.framework/Versions/A/SDL2 (0x14e851698). One of the two will be used. Which one is undefined.\n",
      "objc[56669]: Class SDL_RumbleMotor is implemented in both /Users/alexandreabela/Desktop/ECM/Cours/3A_ECM/PROJET3A/pokemon_env/lib/python3.11/site-packages/pygame/.dylibs/libSDL2-2.0.0.dylib (0x103d55778) and /Users/alexandreabela/Desktop/ECM/Cours/3A_ECM/PROJET3A/pokemon_env/lib/python3.11/site-packages/sdl2dll/dll/SDL2.framework/Versions/A/SDL2 (0x14e8516c0). One of the two will be used. Which one is undefined.\n",
      "objc[56669]: Class SDL_RumbleContext is implemented in both /Users/alexandreabela/Desktop/ECM/Cours/3A_ECM/PROJET3A/pokemon_env/lib/python3.11/site-packages/pygame/.dylibs/libSDL2-2.0.0.dylib (0x103d557c8) and /Users/alexandreabela/Desktop/ECM/Cours/3A_ECM/PROJET3A/pokemon_env/lib/python3.11/site-packages/sdl2dll/dll/SDL2.framework/Versions/A/SDL2 (0x14e851710). One of the two will be used. Which one is undefined.\n",
      "objc[56669]: Class SDL_WindowData is implemented in both /Users/alexandreabela/Desktop/ECM/Cours/3A_ECM/PROJET3A/pokemon_env/lib/python3.11/site-packages/pygame/.dylibs/libSDL2-2.0.0.dylib (0x103d555c0) and /Users/alexandreabela/Desktop/ECM/Cours/3A_ECM/PROJET3A/pokemon_env/lib/python3.11/site-packages/sdl2dll/dll/SDL2.framework/Versions/A/SDL2 (0x14e851788). One of the two will be used. Which one is undefined.\n",
      "objc[56669]: Class SDLWindow is implemented in both /Users/alexandreabela/Desktop/ECM/Cours/3A_ECM/PROJET3A/pokemon_env/lib/python3.11/site-packages/pygame/.dylibs/libSDL2-2.0.0.dylib (0x103d555e8) and /Users/alexandreabela/Desktop/ECM/Cours/3A_ECM/PROJET3A/pokemon_env/lib/python3.11/site-packages/sdl2dll/dll/SDL2.framework/Versions/A/SDL2 (0x14e8517b0). One of the two will be used. Which one is undefined.\n",
      "objc[56669]: Class Cocoa_WindowListener is implemented in both /Users/alexandreabela/Desktop/ECM/Cours/3A_ECM/PROJET3A/pokemon_env/lib/python3.11/site-packages/pygame/.dylibs/libSDL2-2.0.0.dylib (0x103d55610) and /Users/alexandreabela/Desktop/ECM/Cours/3A_ECM/PROJET3A/pokemon_env/lib/python3.11/site-packages/sdl2dll/dll/SDL2.framework/Versions/A/SDL2 (0x14e8517d8). One of the two will be used. Which one is undefined.\n",
      "objc[56669]: Class SDLView is implemented in both /Users/alexandreabela/Desktop/ECM/Cours/3A_ECM/PROJET3A/pokemon_env/lib/python3.11/site-packages/pygame/.dylibs/libSDL2-2.0.0.dylib (0x103d55688) and /Users/alexandreabela/Desktop/ECM/Cours/3A_ECM/PROJET3A/pokemon_env/lib/python3.11/site-packages/sdl2dll/dll/SDL2.framework/Versions/A/SDL2 (0x14e851850). One of the two will be used. Which one is undefined.\n",
      "objc[56669]: Class SDL_VideoData is implemented in both /Users/alexandreabela/Desktop/ECM/Cours/3A_ECM/PROJET3A/pokemon_env/lib/python3.11/site-packages/pygame/.dylibs/libSDL2-2.0.0.dylib (0x103d55570) and /Users/alexandreabela/Desktop/ECM/Cours/3A_ECM/PROJET3A/pokemon_env/lib/python3.11/site-packages/sdl2dll/dll/SDL2.framework/Versions/A/SDL2 (0x14e8518c8). One of the two will be used. Which one is undefined.\n"
     ]
    }
   ],
   "source": [
    "import os\n",
    "import pygame\n",
    "import numpy as np\n",
    "import pandas as pd\n",
    "\n",
    "from env.pok_env_gym_RLLib import PokemonEnv"
   ]
  },
  {
   "cell_type": "code",
   "execution_count": 4,
   "metadata": {},
   "outputs": [],
   "source": [
    "from tqdm.notebook import tqdm\n",
    "\n",
    "def play_game():\n",
    "    pygame.init()\n",
    "    \n",
    "    env = PokemonEnv()\n",
    "\n",
    "    env.reset()\n",
    "\n",
    "    for _ in tqdm(range(30000)):\n",
    "        \n",
    "        action = np.random.randint(0,7)\n",
    "        \n",
    "        env.step(action)\n",
    "\n",
    "    return env.data_info"
   ]
  },
  {
   "cell_type": "code",
   "execution_count": 5,
   "metadata": {},
   "outputs": [
    {
     "data": {
      "application/vnd.jupyter.widget-view+json": {
       "model_id": "f55bb860ffcc40adadb84c43b0282a58",
       "version_major": 2,
       "version_minor": 0
      },
      "text/plain": [
       "  0%|          | 0/30000 [00:00<?, ?it/s]"
      ]
     },
     "metadata": {},
     "output_type": "display_data"
    },
    {
     "name": "stderr",
     "output_type": "stream",
     "text": [
      "2024-03-26 17:12:42.231 Python[56669:6326146] WARNING: Secure coding is not enabled for restorable state! Enable secure coding by implementing NSApplicationDelegate.applicationSupportsSecureRestorableState: and returning YES.\n"
     ]
    },
    {
     "data": {
      "application/vnd.jupyter.widget-view+json": {
       "model_id": "0f0eee6611424618b504ee76d9d13edb",
       "version_major": 2,
       "version_minor": 0
      },
      "text/plain": [
       "  0%|          | 0/30000 [00:00<?, ?it/s]"
      ]
     },
     "metadata": {},
     "output_type": "display_data"
    },
    {
     "data": {
      "application/vnd.jupyter.widget-view+json": {
       "model_id": "5a1dc7f8842b4e1ab7bb284dc108285b",
       "version_major": 2,
       "version_minor": 0
      },
      "text/plain": [
       "  0%|          | 0/30000 [00:00<?, ?it/s]"
      ]
     },
     "metadata": {},
     "output_type": "display_data"
    },
    {
     "data": {
      "application/vnd.jupyter.widget-view+json": {
       "model_id": "71733fff81eb403688fafc0511ba9a44",
       "version_major": 2,
       "version_minor": 0
      },
      "text/plain": [
       "  0%|          | 0/30000 [00:00<?, ?it/s]"
      ]
     },
     "metadata": {},
     "output_type": "display_data"
    },
    {
     "data": {
      "application/vnd.jupyter.widget-view+json": {
       "model_id": "7313cfc5abce431d96a1585631c0bd4e",
       "version_major": 2,
       "version_minor": 0
      },
      "text/plain": [
       "  0%|          | 0/30000 [00:00<?, ?it/s]"
      ]
     },
     "metadata": {},
     "output_type": "display_data"
    },
    {
     "data": {
      "application/vnd.jupyter.widget-view+json": {
       "model_id": "8692b74a0a694513aa93679dc3e5766b",
       "version_major": 2,
       "version_minor": 0
      },
      "text/plain": [
       "  0%|          | 0/30000 [00:00<?, ?it/s]"
      ]
     },
     "metadata": {},
     "output_type": "display_data"
    },
    {
     "data": {
      "application/vnd.jupyter.widget-view+json": {
       "model_id": "24c671b945e841248865ebd7d6397fc8",
       "version_major": 2,
       "version_minor": 0
      },
      "text/plain": [
       "  0%|          | 0/30000 [00:00<?, ?it/s]"
      ]
     },
     "metadata": {},
     "output_type": "display_data"
    },
    {
     "data": {
      "application/vnd.jupyter.widget-view+json": {
       "model_id": "fc55b763b69b4710946675ebc2ef2d9d",
       "version_major": 2,
       "version_minor": 0
      },
      "text/plain": [
       "  0%|          | 0/30000 [00:00<?, ?it/s]"
      ]
     },
     "metadata": {},
     "output_type": "display_data"
    },
    {
     "data": {
      "application/vnd.jupyter.widget-view+json": {
       "model_id": "e4bbf3aecc8041d9af0c505fd22c4855",
       "version_major": 2,
       "version_minor": 0
      },
      "text/plain": [
       "  0%|          | 0/30000 [00:00<?, ?it/s]"
      ]
     },
     "metadata": {},
     "output_type": "display_data"
    },
    {
     "data": {
      "application/vnd.jupyter.widget-view+json": {
       "model_id": "b3e8d7bf6d104a5e8ee643151918f1b3",
       "version_major": 2,
       "version_minor": 0
      },
      "text/plain": [
       "  0%|          | 0/30000 [00:00<?, ?it/s]"
      ]
     },
     "metadata": {},
     "output_type": "display_data"
    }
   ],
   "source": [
    "for i in range(10): \n",
    "    data_info = play_game()\n",
    "    data_info.to_csv(os.path.join(\"runs\", f\"data_random_{i}.csv\"))"
   ]
  }
 ],
 "metadata": {
  "kernelspec": {
   "display_name": "pokemon_env",
   "language": "python",
   "name": "python3"
  },
  "language_info": {
   "codemirror_mode": {
    "name": "ipython",
    "version": 3
   },
   "file_extension": ".py",
   "mimetype": "text/x-python",
   "name": "python",
   "nbconvert_exporter": "python",
   "pygments_lexer": "ipython3",
   "version": "3.11.6"
  }
 },
 "nbformat": 4,
 "nbformat_minor": 2
}
